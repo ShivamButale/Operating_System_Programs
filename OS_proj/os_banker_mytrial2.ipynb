{
  "cells": [
    {
      "metadata": {
        "trusted": true
      },
      "cell_type": "code",
      "source": "import numpy as np\ndef calculateNeed(need, maxm, allot): \n    for i in range(P): \n        for j in range(R): \n            need[i][j] = maxm[i][j] - allot[i][j] \ndef isSafe(processes, avail, maxm, allot): \n    need = [] \n    for i in range(P): \n        l = [] \n        for j in range(R): \n            l.append(0) \n        need.append(l) \n    calculateNeed(need, maxm, allot) \n    finish = [0] * P \n    safeSeq = [0] * P \n    work = [0] * R \n    for i in range(R): \n        work[i] = avail[i] \n    count = 0\n    while (count < P): \n        found = False\n        for p in range(P): \n            if (finish[p] == 0): \n                for j in range(R): \n                    if (need[p][j] > work[j]): \n                        break\n                if (j == R - 1): \n                    for k in range(R): \n                        work[k] += allot[p][k] \n                    safeSeq[count] = p \n                    count += 1\n                    finish[p] = 1\n                    found = True\n        if (found == False): \n            print(\"System is not in safe state\") \n            return False\n\n    print(\"System is in safe state.\", \n            \"\\nSafe sequence is: \", end = \" \") \n    print(*safeSeq) \n\n    return True\n\nif __name__ ==\"__main__\": \n    P = int(input(\"Enter the number of processes : \"))\n    R = int(input(\"Enter the number of resources : \"))\n   # P = 5\n   # R = 3\n\n    processes = []\n    for counter in range(P):\n        x = int(input(\":\"))\n        processes.append(x)\n    print(processes)\n \n    avail = []\n    for counter in range(R):\n        x = int(input(\":\"))\n        avail.append(x)\n    print(avail)\n \n\n\n    shape = (P,R)\n    \n    data = []\n    for counter in range(P*R):\n        x = int(input(\":\"))\n        data.append(x)\n        print(data)\n    \n    maxm = np.array(data).reshape(shape)\n\n    print(maxm)\n\n    \n    data2 = []\n    for counter in range(P*R):\n        x = int(input(\":\"))\n        data2.append(x)\n        print(data2)\n    \n    allot = np.array(data2).reshape(shape)\n\n    print(allot)\n    \n    isSafe(processes, avail, maxm, allot) ",
      "execution_count": null,
      "outputs": [
        {
          "output_type": "stream",
          "name": "stdout",
          "text": "Enter the number of processes : 5\nEnter the number of resources : 3\n"
        }
      ]
    },
    {
      "metadata": {
        "trusted": true
      },
      "cell_type": "code",
      "source": "shape = (5, 3)\n    \ndata = []\nfor counter in range(15):\n    x = int(input(\":\"))\n    data.append(x)\n    print(data)\n    \ndata1 = np.array(data).reshape(shape)\n\nprint(data1)",
      "execution_count": 7,
      "outputs": [
        {
          "output_type": "stream",
          "name": "stdout",
          "text": ":1\n[1]\n:1\n[1, 1]\n:1\n[1, 1, 1]\n:1\n[1, 1, 1, 1]\n:1\n[1, 1, 1, 1, 1]\n:1\n[1, 1, 1, 1, 1, 1]\n:1\n[1, 1, 1, 1, 1, 1, 1]\n:1\n[1, 1, 1, 1, 1, 1, 1, 1]\n:1\n[1, 1, 1, 1, 1, 1, 1, 1, 1]\n:1\n[1, 1, 1, 1, 1, 1, 1, 1, 1, 1]\n:1\n[1, 1, 1, 1, 1, 1, 1, 1, 1, 1, 1]\n:1\n[1, 1, 1, 1, 1, 1, 1, 1, 1, 1, 1, 1]\n:1\n[1, 1, 1, 1, 1, 1, 1, 1, 1, 1, 1, 1, 1]\n:1\n[1, 1, 1, 1, 1, 1, 1, 1, 1, 1, 1, 1, 1, 1]\n:1\n[1, 1, 1, 1, 1, 1, 1, 1, 1, 1, 1, 1, 1, 1, 1]\n[[1 1 1]\n [1 1 1]\n [1 1 1]\n [1 1 1]\n [1 1 1]]\n"
        }
      ]
    },
    {
      "metadata": {
        "trusted": true
      },
      "cell_type": "code",
      "source": "import numpy as np\ndef calculateNeed(need, max_need, allocation): \n    for i in range(no_of_processes): \n        for j in range(no_of_resources): \n            need[i][j] = max_need[i][j] - allocation[i][j] \n\ndef check_safe_state(processes, available, max_need, allocation): \n    need = [] \n    \n    for i in range(no_of_processes): \n        l = [] \n        for j in range(no_of_resources): \n            l.append(0) \n        need.append(l) \n    calculateNeed(need, max_need, allocation) \n    \n    finish = [0] * no_of_processes \n    safeSeq = [0] * no_of_processes \n    work = [0] * no_of_resources \n    \n    for i in range(no_of_resources): \n        work[i] = available[i] \n    \n    count = 0\n    \n    while (count < no_of_processes): \n        found = False\n        for p in range(no_of_processes): \n            if (finish[p] == 0): \n                for j in range(no_of_resources): \n                    if (need[p][j] > work[j]): \n                        break\n                if (j == no_of_resources - 1): \n                    for k in range(no_of_resources): \n                        work[k] += allocation[p][k] \n                    safeSeq[count] = p \n                    count += 1\n                    finish[p] = 1\n                    found = True\n        \n        if (found == False): \n            print(\"System is not in safe state\") \n            return False\n\n    print(\"System is in safe state.\", \n            \"\\nSafe sequence is: \", end = \" \") \n    print(*safeSeq) \n\n    return True\n\nif __name__ ==\"__main__\": \n    no_of_processes = int(input(\"Enter the number of processes : \"))\n    no_of_resources = int(input(\"Enter the number of resources : \"))\n    processes = []\n    for counter in range(no_of_processes):\n        x = int(input(\":\"))\n        processes.append(x)\n    print(processes)\n \n    available = []\n    for counter in range(no_of_resources):\n        x = int(input(\":\"))\n        available.append(x)\n    print(available)\n \n\n\n    shape = (no_of_processes,no_of_resources)\n    \n    data = []\n    for counter in range(no_of_processes*no_of_resources):\n        x = int(input(\":\"))\n        data.append(x)\n        print(data)\n    \n    max_need = np.array(data).reshape(shape)\n\n    print(max_need)\n\n    \n    data2 = []\n    for counter in range(no_of_processes*no_of_resources):\n        x = int(input(\":\"))\n        data2.append(x)\n        print(data2)\n    \n    allocation = np.array(data2).reshape(shape)\n\n    print(allocation)\n    \n\n    #allocation = [[0, 1, 0], [2, 0, 0], \n     #       [3, 0, 2], [2, 1, 1], \n      #      [0, 0, 2]] \n    check_safe_state(processes, available, max_need, allocation) ",
      "execution_count": null,
      "outputs": [
        {
          "output_type": "stream",
          "name": "stdout",
          "text": "Enter the number of processes : 5\nEnter the number of resources : 3\n:0\n:1\n:2\n:3\n:4\n[0, 1, 2, 3, 4]\n:3\n:3\n:2\n[3, 3, 2]\n"
        }
      ]
    },
    {
      "metadata": {
        "trusted": true
      },
      "cell_type": "code",
      "source": "import numpy as np\ndef calculateNeed(need, max_need, allocation): \n    for i in range(no_of_processes): \n        for j in range(no_of_resources): \n            need[i][j] = max_need[i][j] - allocation[i][j] \n\ndef check_safe_state(processes, available, max_need, allocation): \n    need = [] \n    \n    for i in range(no_of_processes): \n        l = [] \n        for j in range(no_of_resources): \n            l.append(0) \n        need.append(l) \n    calculateNeed(need, max_need, allocation) \n    \n    finish = [0] * no_of_processes \n    safeSeq = [0] * no_of_processes \n    work = [0] * no_of_resources \n    \n    for i in range(no_of_resources): \n        work[i] = available[i] \n    \n    count = 0\n    \n    while (count < no_of_processes): \n        found = False\n        for p in range(no_of_processes): \n            if (finish[p] == 0): \n                for j in range(no_of_resources): \n                    if (need[p][j] > work[j]):   # this will detect deadlock\n                        break\n                if (j == no_of_resources - 1): \n                    for k in range(no_of_resources): \n                        work[k] += allocation[p][k] \n                    safeSeq[count] = p \n                    count += 1\n                    finish[p] = 1\n                    found = True\n        \n        if (found == False): \n            print(\"System is not in safe state\") \n            return False\n\n    print(\"System is in safe state.\", \n            \"\\nSafe sequence is: \", end = \" \") \n    print(*safeSeq) \n\n    return True\n\nif __name__ ==\"__main__\": \n    no_of_processes = int(input(\"Enter the number of processes : \"))\n    \n    no_of_resources = int(input(\"Enter the number of resources : \"))\n    \n    print(\"Enter the id of the processes : \")\n    processes = []\n    for counter in range(no_of_processes):\n        x = int(input(\":\"))\n        processes.append(x)\n    print(processes)\n \n    print(\"Enter the 1 X n matrix of available resources  i.e in the format res1_available, res2_available, .......resn_available : \")\n    \n    available = []\n    for counter in range(no_of_resources):\n        x = int(input(\":\"))\n        available.append(x)\n    print(available)\n \n    shape = (no_of_processes,no_of_resources)\n    \n    print(\"Enter the maximum number of resources of each type needed for each process in the format : proc0_res1, proc0_res2........proc0_resn, ...........procm_res1, procm_res2,........procm_resn :\")\n    data = []\n    for counter in range(no_of_processes*no_of_resources):\n        x = int(input(\":\"))\n        data.append(x)\n        #print(data)\n    \n    max_need = np.array(data).reshape(shape)\n\n    #print(max_need)\n    \n    print(\"Enter the alloted resources of each type for each process in the format : proc0_res1, proc0_res2........proc0_resn, ...........procm_res1, procm_res2,........procm_resn : \")\n    \n    data2 = []\n    for counter in range(no_of_processes*no_of_resources):\n        x = int(input(\":\"))\n        data2.append(x)\n        #print(data2)\n    \n    allocation = np.array(data2).reshape(shape)\n\n    #print(allocation)\n \n    check_safe_state(processes, available, max_need, allocation) ",
      "execution_count": 2,
      "outputs": [
        {
          "output_type": "stream",
          "name": "stdout",
          "text": "Enter the number of processes : 5\nEnter the number of resources : 3\nEnter the id of the processes : \n:0\n:1\n:2\n:3\n:4\n[0, 1, 2, 3, 4]\nEnter the 1 X n matrix of available resources  i.e in the format res1_available, res2_available, .......resn_available : \n:3\n:3\n:2\n[3, 3, 2]\nEnter the maximum number of resources of each type needed for each process in the format : proc0_res1, proc0_res2........proc0_resn, ...........procm_res1, procm_res2,........procm_resn :\n:7\n:5\n:3\n:3\n:2\n:2\n:9\n:0\n:2\n:2\n:2\n:2\n:4\n:3\n:3\nEnter the alloted resources of each type for each process in the format : proc0_res1, proc0_res2........proc0_resn, ...........procm_res1, procm_res2,........procm_resn : \n:0\n:1\n:0\n:2\n:0\n:0\n:3\n:0\n:2\n:2\n:1\n:1\n:0\n:0\n:2\nSystem is in safe state. \nSafe sequence is:  1 3 4 0 2\n"
        }
      ]
    },
    {
      "metadata": {
        "trusted": true
      },
      "cell_type": "code",
      "source": "",
      "execution_count": null,
      "outputs": []
    }
  ],
  "metadata": {
    "kernelspec": {
      "name": "python36",
      "display_name": "Python 3.6",
      "language": "python"
    },
    "language_info": {
      "mimetype": "text/x-python",
      "nbconvert_exporter": "python",
      "name": "python",
      "pygments_lexer": "ipython3",
      "version": "3.6.6",
      "file_extension": ".py",
      "codemirror_mode": {
        "version": 3,
        "name": "ipython"
      }
    }
  },
  "nbformat": 4,
  "nbformat_minor": 2
}